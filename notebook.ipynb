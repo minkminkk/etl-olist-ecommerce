{
 "cells": [
  {
   "cell_type": "code",
   "execution_count": 3,
   "metadata": {},
   "outputs": [],
   "source": [
    "import os\n",
    "import pandas as pd\n",
    "from pyspark.sql import SparkSession"
   ]
  },
  {
   "cell_type": "code",
   "execution_count": 7,
   "metadata": {},
   "outputs": [
    {
     "name": "stdout",
     "output_type": "stream",
     "text": [
      "olist_customers_dataset.csv\n",
      "customer_id\n",
      "customer_unique_id\n",
      "customer_zip_code_prefix\n",
      "customer_city\n",
      "customer_state\n",
      "\n",
      "olist_geolocation_dataset.csv\n",
      "geolocation_zip_code_prefix\n",
      "geolocation_lat\n",
      "geolocation_lng\n",
      "geolocation_city\n",
      "geolocation_state\n",
      "\n",
      "olist_orders_dataset.csv\n",
      "order_id\n",
      "customer_id\n",
      "order_status\n",
      "order_purchase_timestamp\n",
      "order_approved_at\n",
      "order_delivered_carrier_date\n",
      "order_delivered_customer_date\n",
      "order_estimated_delivery_date\n",
      "\n",
      "olist_order_items_dataset.csv\n",
      "order_id\n",
      "order_item_id\n",
      "product_id\n",
      "seller_id\n",
      "shipping_limit_date\n",
      "price\n",
      "freight_value\n",
      "\n",
      "olist_order_payments_dataset.csv\n",
      "order_id\n",
      "payment_sequential\n",
      "payment_type\n",
      "payment_installments\n",
      "payment_value\n",
      "\n",
      "olist_order_reviews_dataset.csv\n",
      "review_id\n",
      "order_id\n",
      "review_score\n",
      "review_comment_title\n",
      "review_comment_message\n",
      "review_creation_date\n",
      "review_answer_timestamp\n",
      "\n",
      "olist_products_dataset.csv\n",
      "product_id\n",
      "product_category_name\n",
      "product_name_lenght\n",
      "product_description_lenght\n",
      "product_photos_qty\n",
      "product_weight_g\n",
      "product_length_cm\n",
      "product_height_cm\n",
      "product_width_cm\n",
      "\n",
      "olist_sellers_dataset.csv\n",
      "seller_id\n",
      "seller_zip_code_prefix\n",
      "seller_city\n",
      "seller_state\n",
      "\n",
      "product_category_name_translation.csv\n",
      "product_category_name\n",
      "product_category_name_english\n",
      "\n"
     ]
    }
   ],
   "source": [
    "# Print columns of every .csv file\n",
    "\n",
    "PATH_DATA = './data/'\n",
    "\n",
    "for file in os.listdir(PATH_DATA):\n",
    "    print(file)\n",
    "    df = pd.read_csv(PATH_DATA + file)\n",
    "\n",
    "    for c in df.columns:\n",
    "        print(c)\n",
    "\n",
    "    print('')"
   ]
  },
  {
   "cell_type": "code",
   "execution_count": 5,
   "metadata": {},
   "outputs": [
    {
     "name": "stdout",
     "output_type": "stream",
     "text": [
      "103886\n"
     ]
    }
   ],
   "source": [
    "df = pd.read_csv(PATH_DATA + 'olist_order_payments_dataset.csv')\n",
    "total = 0\n",
    "for index, row in df.iterrows():\n",
    "    if len(row[0]) == 32:\n",
    "        total += 1\n",
    "\n",
    "print(total)"
   ]
  },
  {
   "cell_type": "code",
   "execution_count": null,
   "metadata": {},
   "outputs": [],
   "source": []
  },
  {
   "cell_type": "code",
   "execution_count": 16,
   "metadata": {},
   "outputs": [
    {
     "name": "stdout",
     "output_type": "stream",
     "text": [
      "Empty DataFrame\n",
      "Columns: [order_id, customer_id, order_status, order_purchase_timestamp, order_approved_at, order_delivered_carrier_date, order_delivered_customer_date, order_estimated_delivery_date]\n",
      "Index: []\n"
     ]
    }
   ],
   "source": [
    "df = pd.read_csv(PATH_DATA + 'olist_orders_dataset.csv')\n",
    "print(df[df[\"customer_id\"].duplicated()])"
   ]
  },
  {
   "cell_type": "code",
   "execution_count": null,
   "metadata": {},
   "outputs": [],
   "source": []
  }
 ],
 "metadata": {
  "kernelspec": {
   "display_name": "Python 3",
   "language": "python",
   "name": "python3"
  },
  "language_info": {
   "codemirror_mode": {
    "name": "ipython",
    "version": 3
   },
   "file_extension": ".py",
   "mimetype": "text/x-python",
   "name": "python",
   "nbconvert_exporter": "python",
   "pygments_lexer": "ipython3",
   "version": "3.11.4"
  },
  "orig_nbformat": 4
 },
 "nbformat": 4,
 "nbformat_minor": 2
}
